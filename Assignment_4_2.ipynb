{
  "nbformat": 4,
  "nbformat_minor": 0,
  "metadata": {
    "colab": {
      "provenance": [],
      "authorship_tag": "ABX9TyNoAj3qlvcuxqUEC2tdzsNO",
      "include_colab_link": true
    },
    "kernelspec": {
      "name": "python3",
      "display_name": "Python 3"
    },
    "language_info": {
      "name": "python"
    }
  },
  "cells": [
    {
      "cell_type": "markdown",
      "metadata": {
        "id": "view-in-github",
        "colab_type": "text"
      },
      "source": [
        "<a href=\"https://colab.research.google.com/github/Palakds/Assignments_PW_DS/blob/main/Assignment_4_2.ipynb\" target=\"_parent\"><img src=\"https://colab.research.google.com/assets/colab-badge.svg\" alt=\"Open In Colab\"/></a>"
      ]
    },
    {
      "cell_type": "code",
      "execution_count": 1,
      "metadata": {
        "id": "-hN8DEkelIJr"
      },
      "outputs": [],
      "source": [
        "#1 Create a vehicle class with an init method having instance variables as name_of_vehicle, max_speed and average_of_vehicle.\n",
        "class vehicle:\n",
        "\n",
        "    def __init__(self,name_of_vehicle,max_speed,average_of_vehicle):\n",
        "        self.name_of_vehicle = name_of_vehicle\n",
        "        self.max_speed = max_speed\n",
        "        self.average_of_vehicle = average_of_vehicle\n",
        "\n",
        "    def disply(self):\n",
        "        return self.name_of_vehicle,self.max_speed,self.average_of_vehicle\n",
        "\n",
        "    def display_name(self):\n",
        "        return self.name_of_vehicle"
      ]
    },
    {
      "cell_type": "code",
      "source": [
        "v=vehicle(name_of_vehicle=\"bike\",max_speed=100,average_of_vehicle=10)"
      ],
      "metadata": {
        "id": "g-Vp1p3klLNL"
      },
      "execution_count": 2,
      "outputs": []
    },
    {
      "cell_type": "code",
      "source": [
        "v.disply()"
      ],
      "metadata": {
        "colab": {
          "base_uri": "https://localhost:8080/"
        },
        "id": "abiaVkGElLPo",
        "outputId": "f3b28bae-022e-4259-cd38-b8d2db4fb82d"
      },
      "execution_count": 4,
      "outputs": [
        {
          "output_type": "execute_result",
          "data": {
            "text/plain": [
              "('bike', 100, 10)"
            ]
          },
          "metadata": {},
          "execution_count": 4
        }
      ]
    },
    {
      "cell_type": "code",
      "source": [
        "v.max_speed"
      ],
      "metadata": {
        "colab": {
          "base_uri": "https://localhost:8080/"
        },
        "id": "k-RjcSHalLSH",
        "outputId": "ef999be2-0054-429e-dc15-70ce16dceb93"
      },
      "execution_count": 5,
      "outputs": [
        {
          "output_type": "execute_result",
          "data": {
            "text/plain": [
              "100"
            ]
          },
          "metadata": {},
          "execution_count": 5
        }
      ]
    },
    {
      "cell_type": "code",
      "source": [
        "#2 Create a child class car from the vehicle class created in Que 1, which will inherit the vehicle class.\n",
        "# Create a method named seating_capacity which takes capacity as an argument and returns the name of the vehicle and its seating capacity.\n",
        "class car(vehicle):\n",
        "    def seating_capacity(self, capacity):\n",
        "        return f\"The {self.name_of_vehicle} has a seating capacity of {capacity} people.\""
      ],
      "metadata": {
        "id": "jfGhcCoTlLUR"
      },
      "execution_count": 6,
      "outputs": []
    },
    {
      "cell_type": "code",
      "source": [
        "c=car(name_of_vehicle=\"car\",max_speed=100,average_of_vehicle=10)"
      ],
      "metadata": {
        "id": "kTdY2nKjlLWi"
      },
      "execution_count": 7,
      "outputs": []
    },
    {
      "cell_type": "code",
      "source": [
        "c.seating_capacity(5)"
      ],
      "metadata": {
        "colab": {
          "base_uri": "https://localhost:8080/",
          "height": 35
        },
        "id": "e6qQkQkDlLZ_",
        "outputId": "2c78dab4-6b01-4474-b457-7dd923e9e465"
      },
      "execution_count": 9,
      "outputs": [
        {
          "output_type": "execute_result",
          "data": {
            "text/plain": [
              "'The car has a seating capacity of 5 people.'"
            ],
            "application/vnd.google.colaboratory.intrinsic+json": {
              "type": "string"
            }
          },
          "metadata": {},
          "execution_count": 9
        }
      ]
    },
    {
      "cell_type": "code",
      "source": [
        "#3 What is multiple inheritance? Write a python code to demonstrate multiple inheritance.\n",
        "# When a class can be derived from more than one base class this type of inheritance is called multiple inheritances.\n",
        "class Mother:\n",
        "    def fun(self):\n",
        "        print(\"Acessing Mother Class\")\n",
        "\n",
        "#Base Class 2\n",
        "class Father:\n",
        "    def func2(self):\n",
        "        print(\"Acessing Father Class\")\n",
        "\n",
        "#Derived Class\n",
        "class child(Mother,Father):\n",
        "    def func3(self):\n",
        "        print(\"This is Child Class\")\n",
        "\n",
        "object = child()\n",
        "object.fun()\n",
        "object.func2()\n",
        "object.func3()"
      ],
      "metadata": {
        "colab": {
          "base_uri": "https://localhost:8080/"
        },
        "id": "X_LpeBqol18n",
        "outputId": "e5f50afb-3230-4c1f-899f-1fa797c45115"
      },
      "execution_count": 10,
      "outputs": [
        {
          "output_type": "stream",
          "name": "stdout",
          "text": [
            "Acessing Mother Class\n",
            "Acessing Father Class\n",
            "This is Child Class\n"
          ]
        }
      ]
    },
    {
      "cell_type": "code",
      "source": [
        "#4 What are getter and setter in python? Create a class and create a getter and a setter method in this class.\n",
        "# Getter: A method that allows you to access an attribute in a given class.\n",
        "# Setter: A method that allows you to set or mutate the value of an attribute in a class.\n",
        "class college:\n",
        "\n",
        "    def __init__(self,course_price,course_name):\n",
        "        self.__course_price = course_price\n",
        "        self.course_name = course_name\n",
        "\n",
        "#getter method\n",
        "    @property\n",
        "    def course_price_access(self):\n",
        "        return self.__course_price\n",
        "\n",
        "#setter method\n",
        "    @course_price_access.setter\n",
        "    def course_price_set(self,price):\n",
        "        if price<=140000:\n",
        "            pass\n",
        "        else:\n",
        "            self.__course_price = price\n",
        "\n",
        "#deletor method\n",
        "    @course_price_access.deleter\n",
        "    def course_price_del(self):\n",
        "        del self.__course_price"
      ],
      "metadata": {
        "id": "3vd4tkEMl1_S"
      },
      "execution_count": 12,
      "outputs": []
    },
    {
      "cell_type": "code",
      "source": [
        "clg=college(course_price=150000,course_name=\"python\")"
      ],
      "metadata": {
        "id": "hn1Yxzyql2D9"
      },
      "execution_count": 13,
      "outputs": []
    },
    {
      "cell_type": "code",
      "source": [
        "clg.course_price_set=160000"
      ],
      "metadata": {
        "id": "vmOTggVCl2Fk"
      },
      "execution_count": 14,
      "outputs": []
    },
    {
      "cell_type": "code",
      "source": [
        "clg.course_price_access"
      ],
      "metadata": {
        "colab": {
          "base_uri": "https://localhost:8080/"
        },
        "id": "4JEoUgv1l2Ht",
        "outputId": "ec089bba-8386-4033-a218-a73b05abf553"
      },
      "execution_count": 15,
      "outputs": [
        {
          "output_type": "execute_result",
          "data": {
            "text/plain": [
              "160000"
            ]
          },
          "metadata": {},
          "execution_count": 15
        }
      ]
    },
    {
      "cell_type": "code",
      "source": [
        "#5 What is method overriding in python? Write a python code to demonstrate method overriding.\n",
        "# Method overriding is an ability of any object-oriented programming language that allows a subclass or child class to provide a specific implementation of a\n",
        "#method that is already provided by one of its super-classes or parent classes.\n",
        "class Vehicle:\n",
        "\n",
        "    def display_info(self):\n",
        "        print(\"Class Vehicle\")\n",
        "\n",
        "\n",
        "class Car(Vehicle):\n",
        "\n",
        "    def display_info(self):\n",
        "        print(\"Class Car\")"
      ],
      "metadata": {
        "id": "X06aS_k3l2Jf"
      },
      "execution_count": 16,
      "outputs": []
    },
    {
      "cell_type": "code",
      "source": [
        "c=Car()"
      ],
      "metadata": {
        "id": "v_-2aVEcl2NI"
      },
      "execution_count": 17,
      "outputs": []
    },
    {
      "cell_type": "code",
      "source": [
        "c.display_info()\n"
      ],
      "metadata": {
        "colab": {
          "base_uri": "https://localhost:8080/"
        },
        "id": "6uIGisc9m2RE",
        "outputId": "0c1c2ab9-92f9-4a20-ded9-9fc0f459d389"
      },
      "execution_count": 18,
      "outputs": [
        {
          "output_type": "stream",
          "name": "stdout",
          "text": [
            "Class Car\n"
          ]
        }
      ]
    },
    {
      "cell_type": "code",
      "source": [
        "v=Vehicle()\n"
      ],
      "metadata": {
        "id": "yJX1nbHZm2Tn"
      },
      "execution_count": 19,
      "outputs": []
    },
    {
      "cell_type": "code",
      "source": [],
      "metadata": {
        "id": "sepK-_G_m2XN"
      },
      "execution_count": null,
      "outputs": []
    }
  ]
}