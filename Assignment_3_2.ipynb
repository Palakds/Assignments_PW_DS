{
  "nbformat": 4,
  "nbformat_minor": 0,
  "metadata": {
    "colab": {
      "provenance": [],
      "authorship_tag": "ABX9TyNqqHfJ7sdcK/coJBvLUc5U",
      "include_colab_link": true
    },
    "kernelspec": {
      "name": "python3",
      "display_name": "Python 3"
    },
    "language_info": {
      "name": "python"
    }
  },
  "cells": [
    {
      "cell_type": "markdown",
      "metadata": {
        "id": "view-in-github",
        "colab_type": "text"
      },
      "source": [
        "<a href=\"https://colab.research.google.com/github/Palakds/Assignments_PW_DS/blob/main/Assignment_3_2.ipynb\" target=\"_parent\"><img src=\"https://colab.research.google.com/assets/colab-badge.svg\" alt=\"Open In Colab\"/></a>"
      ]
    },
    {
      "cell_type": "code",
      "execution_count": 1,
      "metadata": {
        "id": "GnLVeuGE47rQ"
      },
      "outputs": [],
      "source": [
        "#1 Create a python program to sort the given list of tuples based on integer value using a lambda function.\n",
        "# [('Sachin Tendulkar', 34357), ('Ricky Ponting', 27483), ('Jack Kallis', 25534), ('Virat Kohli', 24936)]\n",
        "lsts = [('Sachin Tendulkar', 34357), ('Ricky Ponting', 27483), ('Jack Kallis', 25534), ('Virat Kohli', 24936)]"
      ]
    },
    {
      "cell_type": "code",
      "source": [
        "lsts"
      ],
      "metadata": {
        "colab": {
          "base_uri": "https://localhost:8080/"
        },
        "id": "bGz6oFmD4_gj",
        "outputId": "189ed350-fd94-44ec-a5a4-af63330b2640"
      },
      "execution_count": 2,
      "outputs": [
        {
          "output_type": "execute_result",
          "data": {
            "text/plain": [
              "[('Sachin Tendulkar', 34357),\n",
              " ('Ricky Ponting', 27483),\n",
              " ('Jack Kallis', 25534),\n",
              " ('Virat Kohli', 24936)]"
            ]
          },
          "metadata": {},
          "execution_count": 2
        }
      ]
    },
    {
      "cell_type": "code",
      "source": [
        "lsts.sort(key = lambda x: x[1])\n",
        "print(lsts)"
      ],
      "metadata": {
        "colab": {
          "base_uri": "https://localhost:8080/"
        },
        "id": "5bMgy69t4_i3",
        "outputId": "8f705919-62a1-4358-dea2-e0846b9cbff2"
      },
      "execution_count": 3,
      "outputs": [
        {
          "output_type": "stream",
          "name": "stdout",
          "text": [
            "[('Virat Kohli', 24936), ('Jack Kallis', 25534), ('Ricky Ponting', 27483), ('Sachin Tendulkar', 34357)]\n"
          ]
        }
      ]
    },
    {
      "cell_type": "code",
      "source": [
        "#2 Write a Python Program to find the squares of all the numbers in the given list of integers using lambda and map functions.\n",
        "# [1, 2, 3, 4, 5, 6, 7, 8, 9, 10]\n",
        "lst= [1, 2, 3, 4, 5, 6, 7, 8, 9, 10]\n"
      ],
      "metadata": {
        "id": "FZwi2l7L4_lI"
      },
      "execution_count": 4,
      "outputs": []
    },
    {
      "cell_type": "code",
      "source": [
        "list(map(lambda x :x**2,lst))"
      ],
      "metadata": {
        "colab": {
          "base_uri": "https://localhost:8080/"
        },
        "id": "Mmbsu0YY4_nT",
        "outputId": "18e1f624-9eab-4d3a-fed3-5e0ce4aedb98"
      },
      "execution_count": 6,
      "outputs": [
        {
          "output_type": "execute_result",
          "data": {
            "text/plain": [
              "[1, 4, 9, 16, 25, 36, 49, 64, 81, 100]"
            ]
          },
          "metadata": {},
          "execution_count": 6
        }
      ]
    },
    {
      "cell_type": "code",
      "source": [
        "#3 Write a python program to convert the given list of integers into a tuple of strings. Use map and lambda functions\n",
        "# Given String: [1, 2, 3, 4, 5, 6, 7, 8, 9, 10]\n",
        "# Expected output: ('1', '2', '3', '4', '5', '6', '7', '8', '9', '10')\n",
        "l2 = [1,2,3,4,5,6,7,8,9,10]\n"
      ],
      "metadata": {
        "id": "I6DHvtb64_ph"
      },
      "execution_count": 7,
      "outputs": []
    },
    {
      "cell_type": "code",
      "source": [
        "list(map(lambda x: str(x) ,l2))"
      ],
      "metadata": {
        "colab": {
          "base_uri": "https://localhost:8080/"
        },
        "id": "bcuwgmt04_s7",
        "outputId": "f0b965ae-87ff-4f54-fa53-3c32238fa526"
      },
      "execution_count": 8,
      "outputs": [
        {
          "output_type": "execute_result",
          "data": {
            "text/plain": [
              "['1', '2', '3', '4', '5', '6', '7', '8', '9', '10']"
            ]
          },
          "metadata": {},
          "execution_count": 8
        }
      ]
    },
    {
      "cell_type": "code",
      "source": [
        "#4 Write a python program using reduce function to compute the product of a list containing numbers from 1 to 25.\n",
        "l3 = list(range(1,26))\n",
        "l3"
      ],
      "metadata": {
        "colab": {
          "base_uri": "https://localhost:8080/"
        },
        "id": "Ro0GA_rO6iPD",
        "outputId": "6e5c2caf-a24d-4196-d62a-c1fb1466d906"
      },
      "execution_count": 9,
      "outputs": [
        {
          "output_type": "execute_result",
          "data": {
            "text/plain": [
              "[1,\n",
              " 2,\n",
              " 3,\n",
              " 4,\n",
              " 5,\n",
              " 6,\n",
              " 7,\n",
              " 8,\n",
              " 9,\n",
              " 10,\n",
              " 11,\n",
              " 12,\n",
              " 13,\n",
              " 14,\n",
              " 15,\n",
              " 16,\n",
              " 17,\n",
              " 18,\n",
              " 19,\n",
              " 20,\n",
              " 21,\n",
              " 22,\n",
              " 23,\n",
              " 24,\n",
              " 25]"
            ]
          },
          "metadata": {},
          "execution_count": 9
        }
      ]
    },
    {
      "cell_type": "code",
      "source": [
        "from functools import reduce\n",
        "reduce(lambda x,y: x*y ,l3)"
      ],
      "metadata": {
        "colab": {
          "base_uri": "https://localhost:8080/"
        },
        "id": "RVVpPMl56iSl",
        "outputId": "6883688e-ebcf-4a63-db51-cd851be52447"
      },
      "execution_count": 10,
      "outputs": [
        {
          "output_type": "execute_result",
          "data": {
            "text/plain": [
              "15511210043330985984000000"
            ]
          },
          "metadata": {},
          "execution_count": 10
        }
      ]
    },
    {
      "cell_type": "code",
      "source": [
        "#5 Write a python program to filter the numbers in a given list that are divisible by 2 and 3 using the filter function.\n",
        "# [2, 3, 6, 9, 27, 60, 90, 120, 55, 46]\n",
        "l4 = [2, 3, 6, 9, 27, 60, 90, 120, 55, 46]\n",
        "l4"
      ],
      "metadata": {
        "colab": {
          "base_uri": "https://localhost:8080/"
        },
        "id": "LFFxKrHS6iWI",
        "outputId": "5f672288-9133-44cd-a4ab-6ff4c403c5df"
      },
      "execution_count": 11,
      "outputs": [
        {
          "output_type": "execute_result",
          "data": {
            "text/plain": [
              "[2, 3, 6, 9, 27, 60, 90, 120, 55, 46]"
            ]
          },
          "metadata": {},
          "execution_count": 11
        }
      ]
    },
    {
      "cell_type": "code",
      "source": [
        "list(filter(lambda x : x%2==0 and x%3==0,l4))"
      ],
      "metadata": {
        "colab": {
          "base_uri": "https://localhost:8080/"
        },
        "id": "n07nte1D6iaw",
        "outputId": "7cd089dc-0253-400a-8f33-f0711af73dfd"
      },
      "execution_count": 12,
      "outputs": [
        {
          "output_type": "execute_result",
          "data": {
            "text/plain": [
              "[6, 60, 90, 120]"
            ]
          },
          "metadata": {},
          "execution_count": 12
        }
      ]
    },
    {
      "cell_type": "code",
      "source": [
        "#6 Write a python program to find palindromes in the given list of strings using lambda and filter function.\n",
        "#['python', 'php', 'aba', 'radar', 'level']\n",
        "lst=['python', 'php', 'aba', 'radar', 'level']\n",
        "lst"
      ],
      "metadata": {
        "colab": {
          "base_uri": "https://localhost:8080/"
        },
        "id": "oAOFshJt6idN",
        "outputId": "29f94108-dccb-4179-e07e-892dca19619a"
      },
      "execution_count": 13,
      "outputs": [
        {
          "output_type": "execute_result",
          "data": {
            "text/plain": [
              "['python', 'php', 'aba', 'radar', 'level']"
            ]
          },
          "metadata": {},
          "execution_count": 13
        }
      ]
    },
    {
      "cell_type": "code",
      "source": [
        "list(filter(lambda x: (x == \"\".join(reversed(x))), lst))\n"
      ],
      "metadata": {
        "colab": {
          "base_uri": "https://localhost:8080/"
        },
        "id": "XLHi4tPq6igl",
        "outputId": "ae350d6d-78c4-4629-b88e-9d55e8107ba0"
      },
      "execution_count": 14,
      "outputs": [
        {
          "output_type": "execute_result",
          "data": {
            "text/plain": [
              "['php', 'aba', 'radar', 'level']"
            ]
          },
          "metadata": {},
          "execution_count": 14
        }
      ]
    }
  ]
}