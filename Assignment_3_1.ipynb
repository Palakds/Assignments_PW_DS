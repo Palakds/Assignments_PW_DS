{
  "nbformat": 4,
  "nbformat_minor": 0,
  "metadata": {
    "colab": {
      "provenance": [],
      "authorship_tag": "ABX9TyPoiS2dl81/KX1Hx3YNXoXu",
      "include_colab_link": true
    },
    "kernelspec": {
      "name": "python3",
      "display_name": "Python 3"
    },
    "language_info": {
      "name": "python"
    }
  },
  "cells": [
    {
      "cell_type": "markdown",
      "metadata": {
        "id": "view-in-github",
        "colab_type": "text"
      },
      "source": [
        "<a href=\"https://colab.research.google.com/github/Palakds/Assignments_PW_DS/blob/main/Assignment_3_1.ipynb\" target=\"_parent\"><img src=\"https://colab.research.google.com/assets/colab-badge.svg\" alt=\"Open In Colab\"/></a>"
      ]
    },
    {
      "cell_type": "code",
      "execution_count": 1,
      "metadata": {
        "id": "kbiricyb0YNi"
      },
      "outputs": [],
      "source": [
        "#1 Which keyword is used to create a function? Create a function to return a list of odd numbers in the range of 1 to 25.\n",
        "# def keyword is used to create a function\n",
        "def odd_numbers():\n",
        "    odd_numbers = []\n",
        "    for i in range(1, 26):\n",
        "        if i % 2 != 0:\n",
        "            odd_numbers.append(i)\n",
        "    return odd_numbers"
      ]
    },
    {
      "cell_type": "code",
      "source": [
        "odd_numbers()"
      ],
      "metadata": {
        "colab": {
          "base_uri": "https://localhost:8080/"
        },
        "id": "Hggiqys00n_0",
        "outputId": "070e4d82-3792-45a3-9d97-730033f057b1"
      },
      "execution_count": 2,
      "outputs": [
        {
          "output_type": "execute_result",
          "data": {
            "text/plain": [
              "[1, 3, 5, 7, 9, 11, 13, 15, 17, 19, 21, 23, 25]"
            ]
          },
          "metadata": {},
          "execution_count": 2
        }
      ]
    },
    {
      "cell_type": "code",
      "source": [
        "#2 Why *args and **kwargs is used in some functions? Create a function each for *args and **kwargs to demonstrate their use.\n",
        "# *args is used to pass a variable number of non-keyword arguments to a function.\n",
        "def func1(*args):\n",
        "    return args"
      ],
      "metadata": {
        "id": "u4wUFAUf0oCo"
      },
      "execution_count": 4,
      "outputs": []
    },
    {
      "cell_type": "code",
      "source": [
        "type(func1())"
      ],
      "metadata": {
        "colab": {
          "base_uri": "https://localhost:8080/"
        },
        "id": "AmhS5lVh15Ri",
        "outputId": "588ecc0c-81fb-43f5-eb36-0cf07a0b51c6"
      },
      "execution_count": 7,
      "outputs": [
        {
          "output_type": "execute_result",
          "data": {
            "text/plain": [
              "tuple"
            ]
          },
          "metadata": {},
          "execution_count": 7
        }
      ]
    },
    {
      "cell_type": "code",
      "source": [
        "func1(1,2,3,\"abc\",43.2)"
      ],
      "metadata": {
        "colab": {
          "base_uri": "https://localhost:8080/"
        },
        "id": "PdWxrShO0oFg",
        "outputId": "14c4606d-fe08-411d-ae8b-71d392dc3f2b"
      },
      "execution_count": 5,
      "outputs": [
        {
          "output_type": "execute_result",
          "data": {
            "text/plain": [
              "(1, 2, 3, 'abc', 43.2)"
            ]
          },
          "metadata": {},
          "execution_count": 5
        }
      ]
    },
    {
      "cell_type": "code",
      "source": [
        "func1(1,2,3,\"abc\",43.2,431,43112,4223)"
      ],
      "metadata": {
        "colab": {
          "base_uri": "https://localhost:8080/"
        },
        "id": "QqmaO2Vu0oIC",
        "outputId": "f33a0bb1-816b-4c2e-bed9-33acc090a385"
      },
      "execution_count": 8,
      "outputs": [
        {
          "output_type": "execute_result",
          "data": {
            "text/plain": [
              "(1, 2, 3, 'abc', 43.2, 431, 43112, 4223)"
            ]
          },
          "metadata": {},
          "execution_count": 8
        }
      ]
    },
    {
      "cell_type": "code",
      "source": [
        "# define kwargs\n",
        "# when we want the elements accepted in the form of dictionary"
      ],
      "metadata": {
        "id": "izHTqkXk2PFu"
      },
      "execution_count": null,
      "outputs": []
    },
    {
      "cell_type": "code",
      "source": [
        "def func2(**kwargs):\n",
        "    return kwargs"
      ],
      "metadata": {
        "id": "yDB-a7Kx0oKX"
      },
      "execution_count": 9,
      "outputs": []
    },
    {
      "cell_type": "code",
      "source": [
        "func2(a=12,b=34,c=55,d=90)"
      ],
      "metadata": {
        "colab": {
          "base_uri": "https://localhost:8080/"
        },
        "id": "C0KPKVFU0oMl",
        "outputId": "6535c0a2-899a-4e4a-a181-74a9ba5dec07"
      },
      "execution_count": 10,
      "outputs": [
        {
          "output_type": "execute_result",
          "data": {
            "text/plain": [
              "{'a': 12, 'b': 34, 'c': 55, 'd': 90}"
            ]
          },
          "metadata": {},
          "execution_count": 10
        }
      ]
    },
    {
      "cell_type": "code",
      "source": [
        "#3 What is an iterator in python? Name the method used to initialise the iterator object and the method\n",
        "#used for iteration. Use these methods to print the first five elements of the given list [2, 4, 6, 8, 10, 12, 14, 16,18, 20].\n",
        "\n",
        "# An iterator is an object that contains a countable number of values.\n",
        "# iter method is used to initialize the iterator object.\n",
        "# next method is used for iteration. Returns the next item in the sequence or object.\n",
        "\n",
        "list = [2, 4, 6, 8, 10, 12, 14, 16, 18, 20]\n",
        "iterator = iter(list)\n",
        "for i in range(5):\n",
        "    print(next(iterator))"
      ],
      "metadata": {
        "colab": {
          "base_uri": "https://localhost:8080/"
        },
        "id": "Y7n6LyYV0oP7",
        "outputId": "16cf29d3-fe9e-492c-c9ed-84a08735a553"
      },
      "execution_count": 11,
      "outputs": [
        {
          "output_type": "stream",
          "name": "stdout",
          "text": [
            "2\n",
            "4\n",
            "6\n",
            "8\n",
            "10\n"
          ]
        }
      ]
    },
    {
      "cell_type": "code",
      "source": [
        "#4 What is a generator function in python? Why yield keyword is used? Give an example of a generator function.\n",
        "#A generator is a function that returns an iterator that produces a sequence of values when iterated over.\n",
        "# yield keyword is used to create a generator function.\n",
        "\n",
        "def my_generator(n):\n",
        "    for i in range(n):\n",
        "        yield i**2\n",
        "print((my_generator(10)))\n",
        ""
      ],
      "metadata": {
        "colab": {
          "base_uri": "https://localhost:8080/"
        },
        "id": "1BGNxSky2_NX",
        "outputId": "3551f15e-f744-42c2-d444-98256518fcbc"
      },
      "execution_count": 21,
      "outputs": [
        {
          "output_type": "stream",
          "name": "stdout",
          "text": [
            "<generator object my_generator at 0x7b71f3f035a0>\n"
          ]
        }
      ]
    },
    {
      "cell_type": "code",
      "source": [
        "#5 Create a generator function for prime numbers less than 1000. Use the next() method to print the first 20 prime numbers\n",
        "max_no = 1000\n",
        "\n",
        "# Function to check if number is prime number or not\n",
        "def is_prime(num):\n",
        "    if num <= 1:\n",
        "        return False\n",
        "    if num == 2:\n",
        "        return True\n",
        "    for i in range(2,num):\n",
        "        if num % i == 0:\n",
        "            return False\n",
        "    return True\n",
        "\n",
        "# Generator Function\n",
        "def prime_num(max_num):\n",
        "    for i in range(max_num):\n",
        "        if is_prime(i):\n",
        "            yield i"
      ],
      "metadata": {
        "id": "4yzKfYVj2_Ho"
      },
      "execution_count": 23,
      "outputs": []
    },
    {
      "cell_type": "code",
      "source": [
        "prime_gen=prime_num(1000)"
      ],
      "metadata": {
        "id": "kHQ9Es_t4sit"
      },
      "execution_count": 25,
      "outputs": []
    },
    {
      "cell_type": "code",
      "source": [
        "for i in range(20):\n",
        "    print(next(prime_gen))"
      ],
      "metadata": {
        "colab": {
          "base_uri": "https://localhost:8080/"
        },
        "id": "tn8HSm2D4m7Y",
        "outputId": "c799267a-5363-4e1a-9418-e02e5223920b"
      },
      "execution_count": 26,
      "outputs": [
        {
          "output_type": "stream",
          "name": "stdout",
          "text": [
            "2\n",
            "3\n",
            "5\n",
            "7\n",
            "11\n",
            "13\n",
            "17\n",
            "19\n",
            "23\n",
            "29\n",
            "31\n",
            "37\n",
            "41\n",
            "43\n",
            "47\n",
            "53\n",
            "59\n",
            "61\n",
            "67\n",
            "71\n"
          ]
        }
      ]
    },
    {
      "cell_type": "code",
      "source": [],
      "metadata": {
        "id": "f3myX3xJ4m4C"
      },
      "execution_count": null,
      "outputs": []
    },
    {
      "cell_type": "code",
      "source": [],
      "metadata": {
        "id": "j5M7ITjK4m1i"
      },
      "execution_count": null,
      "outputs": []
    }
  ]
}