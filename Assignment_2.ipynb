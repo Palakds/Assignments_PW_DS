{
  "nbformat": 4,
  "nbformat_minor": 0,
  "metadata": {
    "colab": {
      "provenance": [],
      "authorship_tag": "ABX9TyMtESE5zk6/+EIz1MsrR3sZ",
      "include_colab_link": true
    },
    "kernelspec": {
      "name": "python3",
      "display_name": "Python 3"
    },
    "language_info": {
      "name": "python"
    }
  },
  "cells": [
    {
      "cell_type": "markdown",
      "metadata": {
        "id": "view-in-github",
        "colab_type": "text"
      },
      "source": [
        "<a href=\"https://colab.research.google.com/github/Palakds/Assignments_PW_DS/blob/main/Assignment_2.ipynb\" target=\"_parent\"><img src=\"https://colab.research.google.com/assets/colab-badge.svg\" alt=\"Open In Colab\"/></a>"
      ]
    },
    {
      "cell_type": "code",
      "execution_count": 1,
      "metadata": {
        "colab": {
          "base_uri": "https://localhost:8080/"
        },
        "id": "ZiOeqyl33_uw",
        "outputId": "1d05ea85-c6cf-4f61-d556-1cf62343ec1f"
      },
      "outputs": [
        {
          "output_type": "stream",
          "name": "stdout",
          "text": [
            "Multiline comments\n"
          ]
        }
      ],
      "source": [
        "#1 How do you comment code in Python? What are the different types of comments?\n",
        "\n",
        "#There are three types of comments in python : Single Line Multi Line Python DocString\n",
        "#Single line\n",
        "\n",
        "\"\"\"\n",
        "This is a\n",
        "multiline\n",
        "comment\n",
        "\"\"\"\n",
        "print(\"Multiline comments\")"
      ]
    },
    {
      "cell_type": "code",
      "source": [
        "def intro():\n",
        "    '''This is a function used for showing python docstring'''\n",
        "print(\"Implementaion\")\n",
        "print(intro.__doc__)"
      ],
      "metadata": {
        "colab": {
          "base_uri": "https://localhost:8080/"
        },
        "id": "yn6eOrZ14sZm",
        "outputId": "87e1cd39-68a3-4c5e-f78b-6349fa2a12a2"
      },
      "execution_count": 2,
      "outputs": [
        {
          "output_type": "stream",
          "name": "stdout",
          "text": [
            "Implementaion\n",
            "This is a function used for showing python docstring\n"
          ]
        }
      ]
    },
    {
      "cell_type": "code",
      "source": [
        "#2 Q) What are variables in Python? How do you declare and assign values to variables?\n",
        "\n",
        "#A variable is a value that can change, depending on conditions or on information passed to the program.\n",
        "\n",
        "#In python we dont need to declare a variable with specific data type once we assign a value to the variable python automatically\n",
        "#declares data type of the value based on the input value\n",
        "\n",
        "a=1\n",
        "b=1.1\n",
        "c=True\n",
        "d=\"Hello\"\n",
        "print(type(a))\n",
        "print(type(b))\n",
        "print(type(c))\n",
        "print(type(d))\n"
      ],
      "metadata": {
        "colab": {
          "base_uri": "https://localhost:8080/"
        },
        "id": "M-xd5kpu4tbO",
        "outputId": "05197686-a630-4e34-b394-a5b106134293"
      },
      "execution_count": 3,
      "outputs": [
        {
          "output_type": "stream",
          "name": "stdout",
          "text": [
            "<class 'int'>\n",
            "<class 'float'>\n",
            "<class 'bool'>\n",
            "<class 'str'>\n"
          ]
        }
      ]
    },
    {
      "cell_type": "code",
      "source": [
        "#3 How do you convert one data type to another in Python?\n",
        "\n",
        "a=10\n",
        "print(type(a))\n",
        "b=float(a)\n",
        "print(type(b))"
      ],
      "metadata": {
        "colab": {
          "base_uri": "https://localhost:8080/"
        },
        "id": "UrgV8zKo4tdc",
        "outputId": "6cda3bfb-91f5-4a8b-cf5a-2147e8cd1f1e"
      },
      "execution_count": 4,
      "outputs": [
        {
          "output_type": "stream",
          "name": "stdout",
          "text": [
            "<class 'int'>\n",
            "<class 'float'>\n"
          ]
        }
      ]
    },
    {
      "cell_type": "code",
      "source": [
        "#4 How do you write and execute a Python script from the command line?\n",
        "\n",
        "'''\n",
        "Steps to write and execute script from the command line are:\n",
        "\n",
        "Step 1-> First open your python IDE and create a file of any name (lets say you created with name hello)\n",
        "\n",
        "Step 2-> Write the piece of code in the newly created file and save it.\n",
        "\n",
        "Step 3-> Open properties of the created file and copy the location of the same.\n",
        "\n",
        "Step 4-> Open command promp and paste the location of the file and press enter(make sure to command 'cd' to change directory)\n",
        "\n",
        "Step 5-> Now, type: python hello.py and press enter.\n",
        "\n",
        "Step 6-> Your file has been written and executed...'''"
      ],
      "metadata": {
        "colab": {
          "base_uri": "https://localhost:8080/",
          "height": 87
        },
        "id": "T-VtB9iW4tf9",
        "outputId": "1cde82d4-2633-4459-c053-4e2bef6f3248"
      },
      "execution_count": 5,
      "outputs": [
        {
          "output_type": "execute_result",
          "data": {
            "text/plain": [
              "\"\\nSteps to write and execute script from the command line are:\\n\\nStep 1-> First open your python IDE and create a file of any name (lets say you created with name hello)\\n\\nStep 2-> Write the piece of code in the newly created file and save it.\\n\\nStep 3-> Open properties of the created file and copy the location of the same.\\n\\nStep 4-> Open command promp and paste the location of the file and press enter(make sure to command 'cd' to change directory)\\n\\nStep 5-> Now, type: python hello.py and press enter.\\n\\nStep 6-> Your file has been written and executed...\""
            ],
            "application/vnd.google.colaboratory.intrinsic+json": {
              "type": "string"
            }
          },
          "metadata": {},
          "execution_count": 5
        }
      ]
    },
    {
      "cell_type": "code",
      "source": [
        "#5  Given a list my_list = [1, 2, 3, 4, 5], write the code to slice the list and obtain the sub-list [2, 3].\n",
        "\n",
        "my_list=[1,2,3,4,5]\n",
        "sub_list=my_list[1:3]\n",
        "print(sub_list)"
      ],
      "metadata": {
        "colab": {
          "base_uri": "https://localhost:8080/"
        },
        "id": "gBf1Qi-Z4tiO",
        "outputId": "81bcfead-d054-424a-b874-8821fc3c4efb"
      },
      "execution_count": 7,
      "outputs": [
        {
          "output_type": "stream",
          "name": "stdout",
          "text": [
            "[2, 3]\n"
          ]
        }
      ]
    },
    {
      "cell_type": "code",
      "source": [
        "#6  What is a complex number in mathematics, and how is it represented in Python?\n",
        "\n",
        "#A complex number is a number that has both a real and imaginary part.\n",
        "a=1+3j\n",
        "print(type(a))\n",
        "print(a.real)\n",
        "print(a.imag)"
      ],
      "metadata": {
        "colab": {
          "base_uri": "https://localhost:8080/"
        },
        "id": "v6icU9HP4tkf",
        "outputId": "1b9e684f-e5ad-4918-c8f5-9dd7714ee3f6"
      },
      "execution_count": 9,
      "outputs": [
        {
          "output_type": "stream",
          "name": "stdout",
          "text": [
            "<class 'complex'>\n",
            "1.0\n",
            "3.0\n"
          ]
        }
      ]
    },
    {
      "cell_type": "code",
      "source": [
        "#7  What is the correct way to declare a variable named age and assign the value 25 to it?\n",
        "\n",
        "age=25\n",
        "print(age)\n",
        "'''\n",
        "Rules for declaring python variables: ->A variable name must start with a letter or the underscore character ->\n",
        "A variable name cannot start with a number ->A variable name can only contain alpha-numeric characters and underscores (A-z, 0-9, and _ ) ->\n",
        "Variable names are case-sensitive (age, Age and AGE are three different variables)'''"
      ],
      "metadata": {
        "colab": {
          "base_uri": "https://localhost:8080/"
        },
        "id": "r12xXIZS4tm1",
        "outputId": "e3165557-ddb1-4bf0-c59c-9520c2cabc72"
      },
      "execution_count": 10,
      "outputs": [
        {
          "output_type": "stream",
          "name": "stdout",
          "text": [
            "25\n"
          ]
        }
      ]
    },
    {
      "cell_type": "code",
      "source": [
        "#8 Declare a variable named price and assign the value 9.99 to it. What data type does this variable belong to?\n",
        "\n",
        "price=9.99\n",
        "print(type(price))"
      ],
      "metadata": {
        "colab": {
          "base_uri": "https://localhost:8080/"
        },
        "id": "jg0Dvn8M4tqT",
        "outputId": "99edc6ca-08a6-4031-e693-c7bc29a966a2"
      },
      "execution_count": 11,
      "outputs": [
        {
          "output_type": "stream",
          "name": "stdout",
          "text": [
            "<class 'float'>\n"
          ]
        }
      ]
    },
    {
      "cell_type": "code",
      "source": [
        "#9 Create a variable named name and assign your full name to it as a string. How would you print the value of this variable?\n",
        "name=\"palak gupta\"\n",
        "print(name)"
      ],
      "metadata": {
        "colab": {
          "base_uri": "https://localhost:8080/"
        },
        "id": "kTiw83Im8FNs",
        "outputId": "dc959da0-1365-47f9-a4e4-d5a1c31495d9"
      },
      "execution_count": 12,
      "outputs": [
        {
          "output_type": "stream",
          "name": "stdout",
          "text": [
            "palak gupta\n"
          ]
        }
      ]
    },
    {
      "cell_type": "code",
      "source": [
        "#10 Given the string \"Hello, World!\", extract the substring \"World\".\n",
        "\n",
        "h=\"Hello, World!\"\n",
        "print(h[7:12])"
      ],
      "metadata": {
        "colab": {
          "base_uri": "https://localhost:8080/"
        },
        "id": "4oPoo7Yr8FKb",
        "outputId": "3eb97019-f062-4d55-ef3f-15864b16c0d2"
      },
      "execution_count": 14,
      "outputs": [
        {
          "output_type": "stream",
          "name": "stdout",
          "text": [
            "World\n"
          ]
        }
      ]
    },
    {
      "cell_type": "code",
      "source": [
        "#Create a variable named \"is_student\" and assign it a boolean value indicating whether you are currently a student or not.\n",
        "\n",
        "is_student=True\n",
        "print(is_student)"
      ],
      "metadata": {
        "colab": {
          "base_uri": "https://localhost:8080/"
        },
        "id": "VSEKhKC98FIv",
        "outputId": "9a65baa2-055b-42b1-c3e7-a2847963a8e2"
      },
      "execution_count": 15,
      "outputs": [
        {
          "output_type": "stream",
          "name": "stdout",
          "text": [
            "True\n"
          ]
        }
      ]
    },
    {
      "cell_type": "code",
      "source": [],
      "metadata": {
        "id": "GzR4waHk8FGi"
      },
      "execution_count": null,
      "outputs": []
    },
    {
      "cell_type": "code",
      "source": [],
      "metadata": {
        "id": "SNudb7ei8FEY"
      },
      "execution_count": null,
      "outputs": []
    },
    {
      "cell_type": "code",
      "source": [],
      "metadata": {
        "id": "1kWK2Qbc8FCB"
      },
      "execution_count": null,
      "outputs": []
    }
  ]
}