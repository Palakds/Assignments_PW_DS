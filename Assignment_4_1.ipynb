{
  "nbformat": 4,
  "nbformat_minor": 0,
  "metadata": {
    "colab": {
      "provenance": [],
      "authorship_tag": "ABX9TyPC/ogNv+QNzaJmt/+A9L4K",
      "include_colab_link": true
    },
    "kernelspec": {
      "name": "python3",
      "display_name": "Python 3"
    },
    "language_info": {
      "name": "python"
    }
  },
  "cells": [
    {
      "cell_type": "markdown",
      "metadata": {
        "id": "view-in-github",
        "colab_type": "text"
      },
      "source": [
        "<a href=\"https://colab.research.google.com/github/Palakds/Assignments_PW_DS/blob/main/Assignment_4_1.ipynb\" target=\"_parent\"><img src=\"https://colab.research.google.com/assets/colab-badge.svg\" alt=\"Open In Colab\"/></a>"
      ]
    },
    {
      "cell_type": "code",
      "execution_count": 2,
      "metadata": {
        "id": "CMHcbp0shX7D"
      },
      "outputs": [],
      "source": [
        "#1 Explain Class and Object with respect to Object-Oriented Programming. Give a suitable example.\n",
        "# A Class is like an object constructor, or a \"blueprint\" for creating objects.\n",
        "# Almost everything in Python is an object, with its properties and methods.\n",
        "\n",
        "# Creating a class\n",
        "class operations:\n",
        "\n",
        "    def __init__(self,a,b):\n",
        "        self.a=a\n",
        "        self.b=b\n",
        "\n",
        "    def adding(self):\n",
        "        return self.a+self.b\n",
        "\n",
        "    def subrating(self):\n",
        "        return self.a-self.b"
      ]
    },
    {
      "cell_type": "code",
      "source": [
        "#creating an object ie.instance of a class\n",
        "\n",
        "obj = operations(23,45)"
      ],
      "metadata": {
        "id": "3P9Tv939hi_B"
      },
      "execution_count": 3,
      "outputs": []
    },
    {
      "cell_type": "code",
      "source": [
        "obj.adding()"
      ],
      "metadata": {
        "colab": {
          "base_uri": "https://localhost:8080/"
        },
        "id": "War_TXIOhjBn",
        "outputId": "63f09bde-1b2d-4697-d82c-7dd4944dcc17"
      },
      "execution_count": 4,
      "outputs": [
        {
          "output_type": "execute_result",
          "data": {
            "text/plain": [
              "68"
            ]
          },
          "metadata": {},
          "execution_count": 4
        }
      ]
    },
    {
      "cell_type": "code",
      "source": [
        "#2 Name the four pillars of OOPs.\n",
        "# Encapsulation, Abstraction, Inheritance, Polymorphism\n",
        "\n",
        "# Encapsulation :- To enclose something in or as if in a capsule.\n",
        "# Abstraction :- To receive a quality, characteristic, etc., from your parents or family.\n",
        "# Inheritance :- The condition of occurrence in several different forms.\n",
        "# Polymorphism :- A  general idea rather than one that relates to a particular object, person, or situation.\n"
      ],
      "metadata": {
        "id": "GZE8u2GHhjEN"
      },
      "execution_count": null,
      "outputs": []
    },
    {
      "cell_type": "code",
      "source": [
        "#3 Explain why the __init__() function is used. Give a suitable example.\n",
        "# The __init__() function is called every time an object is created from a class. The __init__() function is used to assign values to object properties,\n",
        "# or other operations that are necessary to do when the object is being created.\n",
        "# Example\n",
        "class test:\n",
        "    def __init__(self,name):\n",
        "        self.name = name\n",
        "        print(\"Hello world\")\n",
        "\n",
        "    def display(self):\n",
        "        print(\"Hello world\")\n",
        "        print(\"Name : \",self.name)\n",
        "\n",
        "t = test(\"Palakt\")\n",
        "t.display()"
      ],
      "metadata": {
        "colab": {
          "base_uri": "https://localhost:8080/"
        },
        "id": "e3ufBX2ThjGz",
        "outputId": "d7af1e7c-2007-4217-872b-54c650f73ea5"
      },
      "execution_count": 7,
      "outputs": [
        {
          "output_type": "stream",
          "name": "stdout",
          "text": [
            "Hello world\n",
            "Hello world\n",
            "Name :  Palakt\n"
          ]
        }
      ]
    },
    {
      "cell_type": "code",
      "source": [
        "#4 Why self is used in OOPs?\n",
        "# The self variable is used to represent the instance of the class which is often used in object-oriented programming. It works as a reference to the object.\n",
        "class check:\n",
        "    def __init__(self):\n",
        "        print(\"Address of self = \",id(self))\n",
        "\n",
        "c = check()\n",
        "print(\"Address of object = \",id(c))"
      ],
      "metadata": {
        "colab": {
          "base_uri": "https://localhost:8080/"
        },
        "id": "QMs6IEMVhjJO",
        "outputId": "2b5ad785-d549-4e79-8ae7-3025e2d6c655"
      },
      "execution_count": 8,
      "outputs": [
        {
          "output_type": "stream",
          "name": "stdout",
          "text": [
            "Address of self =  133589962455216\n",
            "Address of object =  133589962455216\n"
          ]
        }
      ]
    },
    {
      "cell_type": "code",
      "source": [
        "#5 What is inheritance? Give an example for each type of inheritance.\n",
        "\n",
        "#1 Single Inheritance\n",
        "#2 Multiple Inheritance\n",
        "#3 Multilevel Inheritance\n",
        "#4 Hierarchical Inheritance\n",
        "#5 Hybrid Inheritance"
      ],
      "metadata": {
        "id": "lM-3l6mfhjK-"
      },
      "execution_count": null,
      "outputs": []
    },
    {
      "cell_type": "code",
      "source": [
        "#Single Inheritance Example\n",
        "\n",
        "#Base Class\n",
        "class Parent:\n",
        "    def func1(self):\n",
        "        print(\"This function is in parent class.\")\n",
        "\n",
        "#Derived Class\n",
        "class Child(Parent):\n",
        "    def func2(self):\n",
        "        print(\"This function is in child class.\")\n",
        "\n",
        "\n",
        "obj = Child()\n",
        "obj.func1()\n",
        "obj.func2()"
      ],
      "metadata": {
        "colab": {
          "base_uri": "https://localhost:8080/"
        },
        "id": "vZR94PFEjj9U",
        "outputId": "668ae6e1-dd0e-460d-8745-1b952d53ea4a"
      },
      "execution_count": 9,
      "outputs": [
        {
          "output_type": "stream",
          "name": "stdout",
          "text": [
            "This function is in parent class.\n",
            "This function is in child class.\n"
          ]
        }
      ]
    },
    {
      "cell_type": "code",
      "source": [
        "#Multiple Inheritance Example\n",
        "\n",
        "#Base Class 1\n",
        "class Mother:\n",
        "    def fun(self):\n",
        "        print(\"Acessing Mother Class\")\n",
        "\n",
        "#Base Class 2\n",
        "class Father:\n",
        "    def func2(self):\n",
        "        print(\"Acessing Father Class\")\n",
        "\n",
        "#Derived Class\n",
        "class child(Mother,Father):\n",
        "    def func3(self):\n",
        "        print(\"This is Child Class\")\n",
        "\n",
        "object = child()\n",
        "object.fun()\n",
        "object.func2()\n",
        "object.func3()"
      ],
      "metadata": {
        "colab": {
          "base_uri": "https://localhost:8080/"
        },
        "id": "9DYDMpZwjj5z",
        "outputId": "74ed4091-b43e-4b98-e3f5-b7b2af6cec3d"
      },
      "execution_count": 10,
      "outputs": [
        {
          "output_type": "stream",
          "name": "stdout",
          "text": [
            "Acessing Mother Class\n",
            "Acessing Father Class\n",
            "This is Child Class\n"
          ]
        }
      ]
    },
    {
      "cell_type": "code",
      "source": [
        "#Multilevel Inheritance Example\n",
        "\n",
        "#Base Class\n",
        "class Grandfather:\n",
        "    def fun1(self):\n",
        "        print(\"Acessing Grandfather Class\")\n",
        "\n",
        "#Intermediate Class\n",
        "class Father(Grandfather):\n",
        "    def fun2(self):\n",
        "        print(\"Acessing Father Class\")\n",
        "\n",
        "#Derived Class\n",
        "class child_class(Father):\n",
        "    def fun3(self):\n",
        "        print(\"This is Child Class\")\n",
        "\n",
        "#We created object of child class but we are able to access the functions of intermediate and base class\n",
        "c = child_class()\n",
        "c.fun3()\n",
        "c.fun2()\n",
        "c.fun1()"
      ],
      "metadata": {
        "colab": {
          "base_uri": "https://localhost:8080/"
        },
        "id": "fMcI8KeYjj38",
        "outputId": "c1f32539-c54a-4ddf-c838-5b04ced979e6"
      },
      "execution_count": 11,
      "outputs": [
        {
          "output_type": "stream",
          "name": "stdout",
          "text": [
            "This is Child Class\n",
            "Acessing Father Class\n",
            "Acessing Grandfather Class\n"
          ]
        }
      ]
    },
    {
      "cell_type": "code",
      "source": [
        "#Heirarchal Inheritance\n",
        "\n",
        "#Base Class\n",
        "class Parent:\n",
        "    def fun(self):\n",
        "        print(\"Acessing Parent Class\")\n",
        "\n",
        "#Derived Class 1\n",
        "class Child_1(Parent):\n",
        "    def func2(self):\n",
        "        print(\"This is  Child 1 Class\")\n",
        "\n",
        "#Derived Class 2\n",
        "class Child_2(Parent):\n",
        "    def func3(self):\n",
        "        print(\"This is Child 2 Class\")\n",
        "\n",
        "#creting object of child_1 class\n",
        "obj1 = Child_1()\n",
        "#creating object of child_2 class\n",
        "obj2 = Child_2()\n",
        "#calling function with objects\n",
        "obj1.fun()\n",
        "obj1.func2()\n",
        "obj2.fun()\n",
        "obj2.func3()"
      ],
      "metadata": {
        "colab": {
          "base_uri": "https://localhost:8080/"
        },
        "id": "mBXMsLpAjj13",
        "outputId": "a9c8eb07-24d8-47f2-e758-2b30a4940aa0"
      },
      "execution_count": 12,
      "outputs": [
        {
          "output_type": "stream",
          "name": "stdout",
          "text": [
            "Acessing Parent Class\n",
            "This is  Child 1 Class\n",
            "Acessing Parent Class\n",
            "This is Child 2 Class\n"
          ]
        }
      ]
    },
    {
      "cell_type": "code",
      "source": [
        "#Hybrid Inheritance\n",
        "\n",
        "#Base Class\n",
        "class GrandFather_1:\n",
        "    def f_1(self):\n",
        "        print(\"Acessing Grandfather Class\")\n",
        "\n",
        "#Derived Class of Base Class\n",
        "class Father_1(GrandFather_1):\n",
        "    def f_2(self):\n",
        "        print(\"Acessing Father Class\")\n",
        "\n",
        "#Base Class\n",
        "class Mother_1:\n",
        "    def f_3(self):\n",
        "        print(\"Acessing Mother Class\")\n",
        "\n",
        "#Derived Class of Father and Mother class\n",
        "class child_1(Father_1,Mother_1):\n",
        "    def f_4(self):\n",
        "        print(\"This is  Child 1 Class\")\n",
        "\n",
        "#Derived Class of Father and Mother class\n",
        "class child_2(Father_1,Mother_1):\n",
        "    def f_5(self):\n",
        "        print(\"This is Child 2 Class\")\n",
        "#object of Grandfather_1 can access\n",
        "ob1= GrandFather_1()\n",
        "ob1.f_1()\n",
        "\n",
        "#object of Father_1 can access\n",
        "ob2= Father_1()\n",
        "ob2.f_1()\n",
        "ob2.f_2()\n",
        "\n",
        "#object of Mother_1 can access\n",
        "ob3= Mother_1()\n",
        "ob3.f_3()\n",
        "\n",
        "#object of child_1 can access\n",
        "ob4 = child_1()\n",
        "ob4.f_1()\n",
        "ob4.f_2()\n",
        "ob4.f_3()\n",
        "ob4.f_4()\n",
        "\n",
        "#object of child_2 can access\n",
        "ob5 = child_2()\n",
        "ob5.f_1()\n",
        "ob5.f_2()\n",
        "ob5.f_3()\n",
        "ob5.f_5()"
      ],
      "metadata": {
        "colab": {
          "base_uri": "https://localhost:8080/"
        },
        "id": "6xoJBa5Xj8TC",
        "outputId": "0539b581-cbcc-4a74-d4e4-d71aad5417b5"
      },
      "execution_count": 13,
      "outputs": [
        {
          "output_type": "stream",
          "name": "stdout",
          "text": [
            "Acessing Grandfather Class\n",
            "Acessing Grandfather Class\n",
            "Acessing Father Class\n",
            "Acessing Mother Class\n",
            "Acessing Grandfather Class\n",
            "Acessing Father Class\n",
            "Acessing Mother Class\n",
            "This is  Child 1 Class\n",
            "Acessing Grandfather Class\n",
            "Acessing Father Class\n",
            "Acessing Mother Class\n",
            "This is Child 2 Class\n"
          ]
        }
      ]
    }
  ]
}